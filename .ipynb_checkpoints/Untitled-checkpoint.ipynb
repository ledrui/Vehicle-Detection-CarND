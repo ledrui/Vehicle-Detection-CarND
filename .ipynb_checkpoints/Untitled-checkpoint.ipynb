{
 "cells": [
  {
   "cell_type": "code",
   "execution_count": null,
   "metadata": {
    "collapsed": true
   },
   "outputs": [],
   "source": [
    "import numpy as np\n",
    "import cv2\n",
    "import matplotlib.pyplot as plt\n",
    "import matplotlib.image as mpimg\n",
    "\n",
    "image = mpimg.imread('examples/bbox-example-image.jpg')\n",
    "\n",
    "def draw_box(img, bboxes, color=(0, 255, 0), thick=5):\n",
    "    im_to_draw = np.copy(img)\n",
    "    \n",
    "    for bbox in bboxes:\n",
    "        cv2.rectangle(im_to_draw, bbox[0], bbox[1], color, thick)\n",
    "        \n",
    "    return im_to_draw\n",
    "\n",
    "# Add bounding boxes in this format, these are just example coordinates.\n",
    "bboxes = [((840, 680), (1150, 500)), ((240, 580), (390, 500))]\n",
    "\n",
    "result = draw_boxes(image, bboxes)\n",
    "plt.imshow(result)"
   ]
  }
 ],
 "metadata": {
  "kernelspec": {
   "display_name": "Python 3",
   "language": "python",
   "name": "python3"
  },
  "language_info": {
   "codemirror_mode": {
    "name": "ipython",
    "version": 3
   },
   "file_extension": ".py",
   "mimetype": "text/x-python",
   "name": "python",
   "nbconvert_exporter": "python",
   "pygments_lexer": "ipython3",
   "version": "3.5.2"
  },
  "widgets": {
   "state": {},
   "version": "1.1.2"
  }
 },
 "nbformat": 4,
 "nbformat_minor": 2
}
